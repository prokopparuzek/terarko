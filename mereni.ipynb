{
 "cells": [
  {
   "cell_type": "code",
   "execution_count": 8,
   "id": "automotive-daniel",
   "metadata": {},
   "outputs": [],
   "source": [
    "import iplantuml"
   ]
  },
  {
   "cell_type": "code",
   "execution_count": 23,
   "id": "completed-surrey",
   "metadata": {},
   "outputs": [
    {
     "name": "stderr",
     "output_type": "stream",
     "text": [
      "usage: ipykernel_launcher.py [-h] [-j] [-n NAME] [-p PLANTUML_PATH]\n",
      "ipykernel_launcher.py: error: unrecognized arguments: auth\n"
     ]
    },
    {
     "ename": "SystemExit",
     "evalue": "2",
     "output_type": "error",
     "traceback": [
      "An exception has occurred, use %tb to see the full traceback.\n",
      "\u001b[0;31mSystemExit\u001b[0m\u001b[0;31m:\u001b[0m 2\n"
     ]
    }
   ],
   "source": [
    "%%plantuml --jar\n",
    "\n",
    "@startuml\n",
    "(*) -right-> \"Načtení knihoven\"\n",
    "\"Načtení knihoven\" -right-> \"Inicializace logování\"\n",
    "\"Inicializace logování\" -right-> \"Spojení s NATS\"\n",
    "\"Spojení s NATS\" -down-> \"Fail\"\n",
    "\"Fail\" --> [Retry] \"Spojení s NATS\"\n",
    "\"Spojení s NATS\" -right-> [nastavení spouštění] \"Cron\"\n",
    "\"Cron\" --> [Je čas] \"Měření\"\n",
    "\"Měření\" -right-> \"Uložení hodnot\"\n",
    "\"Měření\" -right-> \"Odeslání hodnot\"\n",
    "@enduml"
   ]
  }
 ],
 "metadata": {
  "kernelspec": {
   "display_name": "Python 3.7.3 64-bit",
   "language": "python",
   "name": "python37364bit8ab3e9927e324f7aac9b330885880598"
  },
  "language_info": {
   "codemirror_mode": {
    "name": "ipython",
    "version": 3
   },
   "file_extension": ".py",
   "mimetype": "text/x-python",
   "name": "python",
   "nbconvert_exporter": "python",
   "pygments_lexer": "ipython3",
   "version": "3.7.3"
  }
 },
 "nbformat": 4,
 "nbformat_minor": 5
}

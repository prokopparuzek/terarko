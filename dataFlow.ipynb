{
 "cells": [
  {
   "cell_type": "code",
   "execution_count": 45,
   "metadata": {},
   "outputs": [],
   "source": [
    "import iplantuml"
   ]
  },
  {
   "cell_type": "code",
   "execution_count": 44,
   "metadata": {},
   "outputs": [
    {
     "data": {
      "image/svg+xml": [
       "<svg contentScriptType=\"application/ecmascript\" contentStyleType=\"text/css\" height=\"142px\" preserveAspectRatio=\"none\" style=\"width:506px;height:142px;\" version=\"1.1\" viewBox=\"0 0 506 142\" width=\"506px\" xmlns=\"http://www.w3.org/2000/svg\" xmlns:xlink=\"http://www.w3.org/1999/xlink\" zoomAndPan=\"magnify\"><defs><filter height=\"300%\" id=\"fk2ikdda0h2b5\" width=\"300%\" x=\"-1\" y=\"-1\"><feGaussianBlur result=\"blurOut\" stdDeviation=\"2.0\"/><feColorMatrix in=\"blurOut\" result=\"blurOut2\" type=\"matrix\" values=\"0 0 0 0 0 0 0 0 0 0 0 0 0 0 0 0 0 0 .4 0\"/><feOffset dx=\"4.0\" dy=\"4.0\" in=\"blurOut2\" result=\"blurOut3\"/><feBlend in=\"SourceGraphic\" in2=\"blurOut3\" mode=\"normal\"/></filter></defs><g><rect fill=\"#FEFECE\" filter=\"url(#fk2ikdda0h2b5)\" height=\"33.9688\" rx=\"12.5\" ry=\"12.5\" style=\"stroke:#A80036;stroke-width:1.5;\" width=\"61\" x=\"12\" y=\"7\"/><text fill=\"#000000\" font-family=\"sans-serif\" font-size=\"12\" lengthAdjust=\"spacing\" textLength=\"41\" x=\"22\" y=\"28.1387\">Měření</text><rect fill=\"#FEFECE\" filter=\"url(#fk2ikdda0h2b5)\" height=\"33.9688\" rx=\"12.5\" ry=\"12.5\" style=\"stroke:#A80036;stroke-width:1.5;\" width=\"71\" x=\"7\" y=\"95\"/><text fill=\"#000000\" font-family=\"sans-serif\" font-size=\"12\" lengthAdjust=\"spacing\" textLength=\"51\" x=\"17\" y=\"116.1387\">SD karta</text><rect fill=\"#FEFECE\" filter=\"url(#fk2ikdda0h2b5)\" height=\"33.9688\" rx=\"12.5\" ry=\"12.5\" style=\"stroke:#A80036;stroke-width:1.5;\" width=\"54\" x=\"115.5\" y=\"7\"/><text fill=\"#000000\" font-family=\"sans-serif\" font-size=\"12\" lengthAdjust=\"spacing\" textLength=\"34\" x=\"125.5\" y=\"28.1387\">Brána</text><rect fill=\"#FEFECE\" filter=\"url(#fk2ikdda0h2b5)\" height=\"33.9688\" rx=\"12.5\" ry=\"12.5\" style=\"stroke:#A80036;stroke-width:1.5;\" width=\"54\" x=\"236.5\" y=\"7\"/><text fill=\"#000000\" font-family=\"sans-serif\" font-size=\"12\" lengthAdjust=\"spacing\" textLength=\"34\" x=\"246.5\" y=\"28.1387\">Cloud</text><rect fill=\"#FEFECE\" filter=\"url(#fk2ikdda0h2b5)\" height=\"33.9688\" rx=\"12.5\" ry=\"12.5\" style=\"stroke:#A80036;stroke-width:1.5;\" width=\"135\" x=\"357\" y=\"7\"/><text fill=\"#000000\" font-family=\"sans-serif\" font-size=\"12\" lengthAdjust=\"spacing\" textLength=\"115\" x=\"367\" y=\"28.1387\">Zobrazení uživateli</text><!--MD5=[86b3803d3999df08dfe20657797903c4]\n",
       "link Měření to SD karta--><path d=\"M42.5,41.1759 C42.5,54.8697 42.5,74.6064 42.5,89.6051 \" fill=\"none\" id=\"Měření-to-SD karta\" style=\"stroke:#A80036;stroke-width:1.0;\"/><polygon fill=\"#A80036\" points=\"42.5,94.8966,46.5,85.8966,42.5,89.8966,38.5,85.8966,42.5,94.8966\" style=\"stroke:#A80036;stroke-width:1.0;\"/><text fill=\"#000000\" font-family=\"sans-serif\" font-size=\"11\" lengthAdjust=\"spacing\" textLength=\"51\" x=\"43.5\" y=\"72.2104\">Logování</text><!--MD5=[827792be32ad5ed4cb1499526244cb98]\n",
       "link Měření to Brána--><path d=\"M73.0467,24 C84.8071,24 98.2685,24 110.19,24 \" fill=\"none\" id=\"Měření-to-Brána\" style=\"stroke:#A80036;stroke-width:1.0;\"/><polygon fill=\"#A80036\" points=\"115.195,24,106.195,20,110.195,24,106.195,28,115.195,24\" style=\"stroke:#A80036;stroke-width:1.0;\"/><text fill=\"#000000\" font-family=\"sans-serif\" font-size=\"11\" lengthAdjust=\"spacing\" textLength=\"21\" x=\"83.75\" y=\"18.2104\">Wifi</text><!--MD5=[c2575e1fe669f2f30842acf84eb87315]\n",
       "link Brána to Cloud--><path d=\"M169.655,24 C187.87,24 211.95,24 231.157,24 \" fill=\"none\" id=\"Brána-to-Cloud\" style=\"stroke:#A80036;stroke-width:1.0;\"/><polygon fill=\"#A80036\" points=\"236.436,24,227.436,20,231.436,24,227.436,28,236.436,24\" style=\"stroke:#A80036;stroke-width:1.0;\"/><text fill=\"#000000\" font-family=\"sans-serif\" font-size=\"11\" lengthAdjust=\"spacing\" textLength=\"45\" x=\"180.5\" y=\"18.2104\">Internet</text><!--MD5=[5c78bceac2130a55133998292fc4f20d]\n",
       "link Cloud to Zobrazení uživateli--><path d=\"M290.811,24 C307.589,24 329.945,24 351.567,24 \" fill=\"none\" id=\"Cloud-to-Zobrazení uživateli\" style=\"stroke:#A80036;stroke-width:1.0;\"/><polygon fill=\"#A80036\" points=\"356.75,24,347.75,20,351.75,24,347.75,28,356.75,24\" style=\"stroke:#A80036;stroke-width:1.0;\"/><text fill=\"#000000\" font-family=\"sans-serif\" font-size=\"11\" lengthAdjust=\"spacing\" textLength=\"45\" x=\"301.25\" y=\"18.2104\">Internet</text><!--MD5=[297459a009a82eee373a79ae71f74656]\n",
       "@startuml\n",
       "\"Měření\" - -> [Logování]\"SD karta\"\n",
       "\"Měření\" -right-> [Wifi]\"Brána\"\n",
       "\"Brána\" -right-> [Internet]\"Cloud\"\n",
       "\"Cloud\" -right-> [Internet]\"Zobrazení uživateli\"\n",
       "@enduml\n",
       "\n",
       "PlantUML version 1.2020.27beta8(Unknown compile time)\n",
       "(GPL source distribution)\n",
       "Java Runtime: Java(TM) SE Runtime Environment\n",
       "JVM: Java HotSpot(TM) 64-Bit Server VM\n",
       "Default Encoding: UTF-8\n",
       "Language: en\n",
       "Country: US\n",
       "--></g></svg>"
      ],
      "text/plain": [
       "<IPython.core.display.SVG object>"
      ]
     },
     "execution_count": 44,
     "metadata": {},
     "output_type": "execute_result"
    }
   ],
   "source": [
    "%%plantuml\n",
    "@startuml\n",
    "\"Měření\" --> [Logování]\"SD karta\"\n",
    "\"Měření\" -right-> [Wifi]\"Brána\"\n",
    "\"Brána\" -right-> [Internet]\"Cloud\"\n",
    "\"Cloud\" -right-> [Internet]\"Zobrazení uživateli\"\n",
    "@enduml"
   ]
  }
 ],
 "metadata": {
  "kernelspec": {
   "display_name": "Python 3.7.3 64-bit",
   "language": "python",
   "name": "python37364bit8ab3e9927e324f7aac9b330885880598"
  },
  "language_info": {
   "codemirror_mode": {
    "name": "ipython",
    "version": 3
   },
   "file_extension": ".py",
   "mimetype": "text/x-python",
   "name": "python",
   "nbconvert_exporter": "python",
   "pygments_lexer": "ipython3",
   "version": "3.7.3"
  }
 },
 "nbformat": 4,
 "nbformat_minor": 4
}

{
 "cells": [
  {
   "cell_type": "code",
   "execution_count": 1,
   "id": "historic-appraisal",
   "metadata": {},
   "outputs": [],
   "source": [
    "import iplantuml"
   ]
  },
  {
   "cell_type": "code",
   "execution_count": 9,
   "id": "brazilian-permission",
   "metadata": {},
   "outputs": [
    {
     "data": {
      "image/svg+xml": [
       "<svg contentScriptType=\"application/ecmascript\" contentStyleType=\"text/css\" height=\"290px\" preserveAspectRatio=\"none\" style=\"width:551px;height:290px;\" version=\"1.1\" viewBox=\"0 0 551 290\" width=\"551px\" xmlns=\"http://www.w3.org/2000/svg\" xmlns:xlink=\"http://www.w3.org/1999/xlink\" zoomAndPan=\"magnify\"><defs><filter height=\"300%\" id=\"fa6k5wbprdu1u\" width=\"300%\" x=\"-1\" y=\"-1\"><feGaussianBlur result=\"blurOut\" stdDeviation=\"2.0\"/><feColorMatrix in=\"blurOut\" result=\"blurOut2\" type=\"matrix\" values=\"0 0 0 0 0 0 0 0 0 0 0 0 0 0 0 0 0 0 .4 0\"/><feOffset dx=\"4.0\" dy=\"4.0\" in=\"blurOut2\" result=\"blurOut3\"/><feBlend in=\"SourceGraphic\" in2=\"blurOut3\" mode=\"normal\"/></filter></defs><g><ellipse cx=\"16\" cy=\"25\" fill=\"#000000\" filter=\"url(#fa6k5wbprdu1u)\" rx=\"10\" ry=\"10\" style=\"stroke: none; stroke-width: 1.0;\"/><rect fill=\"#FEFECE\" filter=\"url(#fa6k5wbprdu1u)\" height=\"33.9688\" rx=\"12.5\" ry=\"12.5\" style=\"stroke: #A80036; stroke-width: 1.5;\" width=\"128\" x=\"46\" y=\"8\"/><text fill=\"#000000\" font-family=\"sans-serif\" font-size=\"12\" lengthAdjust=\"spacingAndGlyphs\" textLength=\"108\" x=\"56\" y=\"29.1387\">Načtení knihoven</text><rect fill=\"#FEFECE\" filter=\"url(#fa6k5wbprdu1u)\" height=\"33.9688\" rx=\"12.5\" ry=\"12.5\" style=\"stroke: #A80036; stroke-width: 1.5;\" width=\"144\" x=\"194\" y=\"8\"/><text fill=\"#000000\" font-family=\"sans-serif\" font-size=\"12\" lengthAdjust=\"spacingAndGlyphs\" textLength=\"124\" x=\"204\" y=\"29.1387\">Zkus obnovit sezení</text><rect fill=\"#FEFECE\" filter=\"url(#fa6k5wbprdu1u)\" height=\"33.9688\" rx=\"12.5\" ry=\"12.5\" style=\"stroke: #A80036; stroke-width: 1.5;\" width=\"81\" x=\"275.5\" y=\"96\"/><text fill=\"#000000\" font-family=\"sans-serif\" font-size=\"12\" lengthAdjust=\"spacingAndGlyphs\" textLength=\"61\" x=\"285.5\" y=\"117.1387\">Přihlaš se</text><rect fill=\"#FEFECE\" filter=\"url(#fa6k5wbprdu1u)\" height=\"33.9688\" rx=\"12.5\" ry=\"12.5\" style=\"stroke: #A80036; stroke-width: 1.5;\" width=\"145\" x=\"177.5\" y=\"171\"/><text fill=\"#000000\" font-family=\"sans-serif\" font-size=\"12\" lengthAdjust=\"spacingAndGlyphs\" textLength=\"125\" x=\"187.5\" y=\"192.1387\">Spoj se s firestorem</text><rect fill=\"#FEFECE\" filter=\"url(#fa6k5wbprdu1u)\" height=\"33.9688\" rx=\"12.5\" ry=\"12.5\" style=\"stroke: #A80036; stroke-width: 1.5;\" width=\"85\" x=\"342.5\" y=\"171\"/><text fill=\"#000000\" font-family=\"sans-serif\" font-size=\"12\" lengthAdjust=\"spacingAndGlyphs\" textLength=\"65\" x=\"352.5\" y=\"192.1387\">Načti data</text><rect fill=\"#FEFECE\" filter=\"url(#fa6k5wbprdu1u)\" height=\"33.9688\" rx=\"12.5\" ry=\"12.5\" style=\"stroke: #A80036; stroke-width: 1.5;\" width=\"92\" x=\"448\" y=\"171\"/><text fill=\"#000000\" font-family=\"sans-serif\" font-size=\"12\" lengthAdjust=\"spacingAndGlyphs\" textLength=\"72\" x=\"458\" y=\"192.1387\">Zobraz graf</text><rect fill=\"#FEFECE\" filter=\"url(#fa6k5wbprdu1u)\" height=\"33.9688\" rx=\"12.5\" ry=\"12.5\" style=\"stroke: #A80036; stroke-width: 1.5;\" width=\"87\" x=\"395.5\" y=\"246\"/><text fill=\"#000000\" font-family=\"sans-serif\" font-size=\"12\" lengthAdjust=\"spacingAndGlyphs\" textLength=\"67\" x=\"405.5\" y=\"267.1387\">Zobraz jiný</text><!--link start to Načtení knihoven--><path d=\"M26.2813,25 C31.0844,25 35.8876,25 40.6908,25 \" fill=\"none\" id=\"start-Načtení knihoven\" style=\"stroke: #A80036; stroke-width: 1.0;\"/><polygon fill=\"#A80036\" points=\"45.9028,25,36.9028,21,40.9028,25,36.9028,29,45.9028,25\" style=\"stroke: #A80036; stroke-width: 1.0;\"/><!--link Načtení knihoven to Zkus obnovit sezení--><path d=\"M174.2891,25 C179.1123,25 183.9356,25 188.7588,25 \" fill=\"none\" id=\"Načtení knihoven-Zkus obnovit sezení\" style=\"stroke: #A80036; stroke-width: 1.0;\"/><polygon fill=\"#A80036\" points=\"193.9926,25,184.9926,21,188.9926,25,184.9926,29,193.9926,25\" style=\"stroke: #A80036; stroke-width: 1.0;\"/><!--link Zkus obnovit sezení to Přihlaš se--><path d=\"M275.8784,42.386 C283.8739,56.458 295.1748,76.3476 303.7464,91.4337 \" fill=\"none\" id=\"Zkus obnovit sezení-Přihlaš se\" style=\"stroke: #A80036; stroke-width: 1.0;\"/><polygon fill=\"#A80036\" points=\"306.3123,95.9496,305.3441,86.1484,303.8423,91.6023,298.3884,90.1005,306.3123,95.9496\" style=\"stroke: #A80036; stroke-width: 1.0;\"/><text fill=\"#000000\" font-family=\"sans-serif\" font-size=\"11\" lengthAdjust=\"spacingAndGlyphs\" textLength=\"19\" x=\"295\" y=\"73.2104\">Fail</text><!--link Zkus obnovit sezení to Spoj se s firestorem--><path d=\"M260.023,42.2501 C255.4276,56.4716 249.462,77.2762 247,96 C245.03,110.9821 246.6096,114.8939 247,130 C247.3045,141.7805 247.9562,154.8934 248.5747,165.6667 \" fill=\"none\" id=\"Zkus obnovit sezení-Spoj se s firestorem\" style=\"stroke: #A80036; stroke-width: 1.0;\"/><polygon fill=\"#A80036\" points=\"248.874,170.7514,252.3379,161.5318,248.58,165.7601,244.3517,162.0022,248.874,170.7514\" style=\"stroke: #A80036; stroke-width: 1.0;\"/><text fill=\"#000000\" font-family=\"sans-serif\" font-size=\"11\" lengthAdjust=\"spacingAndGlyphs\" textLength=\"16\" x=\"248\" y=\"117.2104\">OK</text><!--link Přihlaš se to Spoj se s firestorem--><path d=\"M301.0236,130.0187 C291.3876,140.9686 278.7941,155.2794 268.5297,166.9435 \" fill=\"none\" id=\"Přihlaš se-Spoj se s firestorem\" style=\"stroke: #A80036; stroke-width: 1.0;\"/><polygon fill=\"#A80036\" points=\"265.1456,170.7891,274.0941,166.6752,268.4487,167.0355,268.0884,161.3902,265.1456,170.7891\" style=\"stroke: #A80036; stroke-width: 1.0;\"/><!--link Spoj se s firestorem to Načti data--><path d=\"M322.5098,188 C327.2901,188 332.0704,188 336.8508,188 \" fill=\"none\" id=\"Spoj se s firestorem-Načti data\" style=\"stroke: #A80036; stroke-width: 1.0;\"/><polygon fill=\"#A80036\" points=\"342.038,188,333.038,184,337.038,188,333.038,192,342.038,188\" style=\"stroke: #A80036; stroke-width: 1.0;\"/><!--link Načti data to Zobraz graf--><path d=\"M427.5781,188 C432.6376,188 437.6971,188 442.7566,188 \" fill=\"none\" id=\"Načti data-Zobraz graf\" style=\"stroke: #A80036; stroke-width: 1.0;\"/><polygon fill=\"#A80036\" points=\"447.816,188,438.816,184,442.816,188,438.816,192,447.816,188\" style=\"stroke: #A80036; stroke-width: 1.0;\"/><!--link Zobraz graf to Zobraz jiný--><path d=\"M481.5196,205.0187 C473.5595,215.8734 463.1774,230.0308 454.665,241.6387 \" fill=\"none\" id=\"Zobraz graf-Zobraz jiný\" style=\"stroke: #A80036; stroke-width: 1.0;\"/><polygon fill=\"#A80036\" points=\"451.6213,245.7891,460.1692,240.897,454.5782,241.7571,453.718,236.166,451.6213,245.7891\" style=\"stroke: #A80036; stroke-width: 1.0;\"/><!--link Zobraz jiný to Načti data--><path d=\"M426.6081,245.7891 C418.7648,234.8956 408.5685,220.734 400.2326,209.1564 \" fill=\"none\" id=\"Zobraz jiný-Načti data\" style=\"stroke: #A80036; stroke-width: 1.0;\"/><polygon fill=\"#A80036\" points=\"397.2534,205.0187,399.266,214.6597,400.1749,209.0764,405.7583,209.9853,397.2534,205.0187\" style=\"stroke: #A80036; stroke-width: 1.0;\"/><!--\n",
       "@startuml\n",
       "(*) -right-> \"Načtení knihoven\"\n",
       "\"Načtení knihoven\" -right-> \"Zkus obnovit sezení\"\n",
       "\"Zkus obnovit sezení\" - -> [Fail] \"Přihlaš se\"\n",
       "\"Zkus obnovit sezení\" -right-> [OK] \"Spoj se s firestorem\"\n",
       "\"Přihlaš se\" - -> \"Spoj se s firestorem\"\n",
       "\"Spoj se s firestorem\" -right-> \"Načti data\"\n",
       "\"Načti data\" -right-> \"Zobraz graf\"\n",
       "\"Zobraz graf\" - -> \"Zobraz jiný\"\n",
       "\"Zobraz jiný\" - -> \"Načti data\"\n",
       "@enduml\n",
       "\n",
       "PlantUML version 1.2018.13(Mon Nov 26 18:11:51 CET 2018)\n",
       "(GPL source distribution)\n",
       "Java Runtime: OpenJDK Runtime Environment\n",
       "JVM: OpenJDK 64-Bit Server VM\n",
       "Java Version: 11.0.11+9-post-Debian-1deb10u1\n",
       "Operating System: Linux\n",
       "OS Version: 5.4.109-26055-g403087d8c365\n",
       "Default Encoding: UTF-8\n",
       "Language: cs\n",
       "Country: CZ\n",
       "--></g></svg>"
      ],
      "text/plain": [
       "<IPython.core.display.SVG object>"
      ]
     },
     "execution_count": 9,
     "metadata": {},
     "output_type": "execute_result"
    }
   ],
   "source": [
    "%%plantuml --jar\n",
    "@startuml\n",
    "(*) -right-> \"Načtení knihoven\"\n",
    "\"Načtení knihoven\" -right-> \"Zkus obnovit sezení\"\n",
    "\"Zkus obnovit sezení\" --> [Fail] \"Přihlaš se\"\n",
    "\"Zkus obnovit sezení\" -right-> [OK] \"Spoj se s firestorem\"\n",
    "\"Přihlaš se\" --> \"Spoj se s firestorem\"\n",
    "\"Spoj se s firestorem\" -right-> \"Načti data\"\n",
    "\"Načti data\" -right-> \"Zobraz graf\"\n",
    "\"Zobraz graf\" --> \"Zobraz jiný\"\n",
    "\"Zobraz jiný\" --> \"Načti data\"\n",
    "@enduml"
   ]
  }
 ],
 "metadata": {
  "kernelspec": {
   "display_name": "Python 3.7.3 64-bit",
   "language": "python",
   "name": "python37364bit8ab3e9927e324f7aac9b330885880598"
  },
  "language_info": {
   "codemirror_mode": {
    "name": "ipython",
    "version": 3
   },
   "file_extension": ".py",
   "mimetype": "text/x-python",
   "name": "python",
   "nbconvert_exporter": "python",
   "pygments_lexer": "ipython3",
   "version": "3.7.3"
  }
 },
 "nbformat": 4,
 "nbformat_minor": 5
}

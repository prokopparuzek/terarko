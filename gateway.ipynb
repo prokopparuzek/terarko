{
 "cells": [
  {
   "cell_type": "code",
   "execution_count": 2,
   "id": "pressed-pocket",
   "metadata": {},
   "outputs": [],
   "source": [
    "import iplantuml"
   ]
  },
  {
   "cell_type": "code",
   "execution_count": 4,
   "id": "ready-pressing",
   "metadata": {},
   "outputs": [
    {
     "data": {
      "image/svg+xml": [
       "<svg contentScriptType=\"application/ecmascript\" contentStyleType=\"text/css\" height=\"140px\" preserveAspectRatio=\"none\" style=\"width:868px;height:140px;\" version=\"1.1\" viewBox=\"0 0 868 140\" width=\"868px\" xmlns=\"http://www.w3.org/2000/svg\" xmlns:xlink=\"http://www.w3.org/1999/xlink\" zoomAndPan=\"magnify\"><defs><filter height=\"300%\" id=\"f1ht53u57m87ml\" width=\"300%\" x=\"-1\" y=\"-1\"><feGaussianBlur result=\"blurOut\" stdDeviation=\"2.0\"/><feColorMatrix in=\"blurOut\" result=\"blurOut2\" type=\"matrix\" values=\"0 0 0 0 0 0 0 0 0 0 0 0 0 0 0 0 0 0 .4 0\"/><feOffset dx=\"4.0\" dy=\"4.0\" in=\"blurOut2\" result=\"blurOut3\"/><feBlend in=\"SourceGraphic\" in2=\"blurOut3\" mode=\"normal\"/></filter></defs><g><ellipse cx=\"16\" cy=\"25\" fill=\"#000000\" filter=\"url(#f1ht53u57m87ml)\" rx=\"10\" ry=\"10\" style=\"stroke: none; stroke-width: 1.0;\"/><rect fill=\"#FEFECE\" filter=\"url(#f1ht53u57m87ml)\" height=\"33.9688\" rx=\"12.5\" ry=\"12.5\" style=\"stroke: #A80036; stroke-width: 1.5;\" width=\"128\" x=\"46\" y=\"8\"/><text fill=\"#000000\" font-family=\"sans-serif\" font-size=\"12\" lengthAdjust=\"spacingAndGlyphs\" textLength=\"108\" x=\"56\" y=\"29.1387\">Načtení knihoven</text><rect fill=\"#FEFECE\" filter=\"url(#f1ht53u57m87ml)\" height=\"33.9688\" rx=\"12.5\" ry=\"12.5\" style=\"stroke: #A80036; stroke-width: 1.5;\" width=\"142\" x=\"194\" y=\"8\"/><text fill=\"#000000\" font-family=\"sans-serif\" font-size=\"12\" lengthAdjust=\"spacingAndGlyphs\" textLength=\"122\" x=\"204\" y=\"29.1387\">Inicializace logování</text><rect fill=\"#FEFECE\" filter=\"url(#f1ht53u57m87ml)\" height=\"33.9688\" rx=\"12.5\" ry=\"12.5\" style=\"stroke: #A80036; stroke-width: 1.5;\" width=\"113\" x=\"356.5\" y=\"8\"/><text fill=\"#000000\" font-family=\"sans-serif\" font-size=\"12\" lengthAdjust=\"spacingAndGlyphs\" textLength=\"93\" x=\"366.5\" y=\"29.1387\">Spojení s NATS</text><rect fill=\"#FEFECE\" filter=\"url(#f1ht53u57m87ml)\" height=\"33.9688\" rx=\"12.5\" ry=\"12.5\" style=\"stroke: #A80036; stroke-width: 1.5;\" width=\"41\" x=\"392.5\" y=\"96\"/><text fill=\"#000000\" font-family=\"sans-serif\" font-size=\"12\" lengthAdjust=\"spacingAndGlyphs\" textLength=\"21\" x=\"402.5\" y=\"117.1387\">Fail</text><rect fill=\"#FEFECE\" filter=\"url(#f1ht53u57m87ml)\" height=\"33.9688\" rx=\"12.5\" ry=\"12.5\" style=\"stroke: #A80036; stroke-width: 1.5;\" width=\"135\" x=\"489.5\" y=\"8\"/><text fill=\"#000000\" font-family=\"sans-serif\" font-size=\"12\" lengthAdjust=\"spacingAndGlyphs\" textLength=\"115\" x=\"499.5\" y=\"29.1387\">Spojení s Firebase</text><rect fill=\"#FEFECE\" filter=\"url(#f1ht53u57m87ml)\" height=\"33.9688\" rx=\"12.5\" ry=\"12.5\" style=\"stroke: #A80036; stroke-width: 1.5;\" width=\"52\" x=\"756\" y=\"8\"/><text fill=\"#000000\" font-family=\"sans-serif\" font-size=\"12\" lengthAdjust=\"spacingAndGlyphs\" textLength=\"32\" x=\"766\" y=\"29.1387\">NATS</text><rect fill=\"#FEFECE\" filter=\"url(#f1ht53u57m87ml)\" height=\"33.9688\" rx=\"12.5\" ry=\"12.5\" style=\"stroke: #A80036; stroke-width: 1.5;\" width=\"143\" x=\"710.5\" y=\"96\"/><text fill=\"#000000\" font-family=\"sans-serif\" font-size=\"12\" lengthAdjust=\"spacingAndGlyphs\" textLength=\"123\" x=\"720.5\" y=\"117.1387\">Poslání do Firebase</text><!--link start to Načtení knihoven--><path d=\"M26.2813,25 C31.0844,25 35.8876,25 40.6908,25 \" fill=\"none\" id=\"start-Načtení knihoven\" style=\"stroke: #A80036; stroke-width: 1.0;\"/><polygon fill=\"#A80036\" points=\"45.9028,25,36.9028,21,40.9028,25,36.9028,29,45.9028,25\" style=\"stroke: #A80036; stroke-width: 1.0;\"/><!--link Načtení knihoven to Inicializace logování--><path d=\"M174.1797,25 C178.9561,25 183.7325,25 188.5089,25 \" fill=\"none\" id=\"Načtení knihoven-Inicializace logování\" style=\"stroke: #A80036; stroke-width: 1.0;\"/><polygon fill=\"#A80036\" points=\"193.6919,25,184.6919,21,188.6919,25,184.6919,29,193.6919,25\" style=\"stroke: #A80036; stroke-width: 1.0;\"/><!--link Inicializace logování to Spojení s NATS--><path d=\"M336.1094,25 C341.1403,25 346.1712,25 351.2022,25 \" fill=\"none\" id=\"Inicializace logování-Spojení s NATS\" style=\"stroke: #A80036; stroke-width: 1.0;\"/><polygon fill=\"#A80036\" points=\"356.2331,25,347.2331,21,351.2331,25,347.2331,29,356.2331,25\" style=\"stroke: #A80036; stroke-width: 1.0;\"/><!--link Spojení s NATS to Fail--><path d=\"M411.306,42.2999 C410.7754,48.5062 410.2606,55.5606 410,62 C409.6257,71.2472 410.055,81.4289 410.6949,90.2471 \" fill=\"none\" id=\"Spojení s NATS-Fail\" style=\"stroke: #A80036; stroke-width: 1.0;\"/><polygon fill=\"#A80036\" points=\"411.1152,95.5409,414.3901,86.2525,410.7194,90.5566,406.4152,86.8858,411.1152,95.5409\" style=\"stroke: #A80036; stroke-width: 1.0;\"/><!--link Fail to Spojení s NATS--><path d=\"M413,95.9496 C413,82.212 413,62.774 413,47.7166 \" fill=\"none\" id=\"Fail-Spojení s NATS\" style=\"stroke: #A80036; stroke-width: 1.0;\"/><polygon fill=\"#A80036\" points=\"413,42.386,409,51.386,413,47.386,417,51.386,413,42.386\" style=\"stroke: #A80036; stroke-width: 1.0;\"/><text fill=\"#000000\" font-family=\"sans-serif\" font-size=\"11\" lengthAdjust=\"spacingAndGlyphs\" textLength=\"29\" x=\"414\" y=\"73.2104\">Retry</text><!--link Spojení s NATS to Spojení s Firebase--><path d=\"M469.5313,25 C474.3823,25 479.2334,25 484.0845,25 \" fill=\"none\" id=\"Spojení s NATS-Spojení s Firebase\" style=\"stroke: #A80036; stroke-width: 1.0;\"/><polygon fill=\"#A80036\" points=\"489.3484,25,480.3484,21,484.3484,25,480.3484,29,489.3484,25\" style=\"stroke: #A80036; stroke-width: 1.0;\"/><!--link Spojení s Firebase to NATS--><path d=\"M624.5074,25 C666.4062,25 718.2737,25 750.7598,25 \" fill=\"none\" id=\"Spojení s Firebase-NATS\" style=\"stroke: #A80036; stroke-width: 1.0;\"/><polygon fill=\"#A80036\" points=\"755.8028,25,746.8028,21,750.8028,25,746.8028,29,755.8028,25\" style=\"stroke: #A80036; stroke-width: 1.0;\"/><text fill=\"#000000\" font-family=\"sans-serif\" font-size=\"11\" lengthAdjust=\"spacingAndGlyphs\" textLength=\"110\" x=\"635.25\" y=\"19.2104\">Přihlášení k odběru</text><!--link NATS to Poslání do Firebase--><path d=\"M782,42.386 C782,56.2154 782,75.6635 782,90.6491 \" fill=\"none\" id=\"NATS-Poslání do Firebase\" style=\"stroke: #A80036; stroke-width: 1.0;\"/><polygon fill=\"#A80036\" points=\"782,95.9496,786,86.9496,782,90.9496,778,86.9496,782,95.9496\" style=\"stroke: #A80036; stroke-width: 1.0;\"/><text fill=\"#000000\" font-family=\"sans-serif\" font-size=\"11\" lengthAdjust=\"spacingAndGlyphs\" textLength=\"73\" x=\"783\" y=\"73.2104\">Přišla zpráva</text><!--\n",
       "@startuml\n",
       "(*) -right-> \"Načtení knihoven\"\n",
       "\"Načtení knihoven\" -right-> \"Inicializace logování\"\n",
       "\"Inicializace logování\" -right-> \"Spojení s NATS\"\n",
       "\"Spojení s NATS\" -down-> \"Fail\"\n",
       "\"Fail\" - -> [Retry] \"Spojení s NATS\"\n",
       "\"Spojení s NATS\" -right-> \"Spojení s Firebase\"\n",
       "\"Spojení s Firebase\" -right-> [Přihlášení k odběru] \"NATS\"\n",
       "\"NATS\" - -> [Přišla zpráva] \"Poslání do Firebase\"\n",
       "@enduml\n",
       "\n",
       "PlantUML version 1.2018.13(Mon Nov 26 18:11:51 CET 2018)\n",
       "(GPL source distribution)\n",
       "Java Runtime: OpenJDK Runtime Environment\n",
       "JVM: OpenJDK 64-Bit Server VM\n",
       "Java Version: 11.0.11+9-post-Debian-1deb10u1\n",
       "Operating System: Linux\n",
       "OS Version: 5.4.109-26055-g403087d8c365\n",
       "Default Encoding: UTF-8\n",
       "Language: cs\n",
       "Country: CZ\n",
       "--></g></svg>"
      ],
      "text/plain": [
       "<IPython.core.display.SVG object>"
      ]
     },
     "execution_count": 4,
     "metadata": {},
     "output_type": "execute_result"
    }
   ],
   "source": [
    "%%plantuml --jar\n",
    "\n",
    "@startuml\n",
    "(*) -right-> \"Načtení knihoven\"\n",
    "\"Načtení knihoven\" -right-> \"Inicializace logování\"\n",
    "\"Inicializace logování\" -right-> \"Spojení s NATS\"\n",
    "\"Spojení s NATS\" -down-> \"Fail\"\n",
    "\"Fail\" --> [Retry] \"Spojení s NATS\"\n",
    "\"Spojení s NATS\" -right-> \"Spojení s Firebase\"\n",
    "\"Spojení s Firebase\" -right-> [Přihlášení k odběru] \"NATS\"\n",
    "\"NATS\" --> [Přišla zpráva] \"Poslání do Firebase\"\n",
    "@enduml"
   ]
  }
 ],
 "metadata": {
  "kernelspec": {
   "display_name": "Python 3.7.3 64-bit",
   "language": "python",
   "name": "python37364bit8ab3e9927e324f7aac9b330885880598"
  },
  "language_info": {
   "codemirror_mode": {
    "name": "ipython",
    "version": 3
   },
   "file_extension": ".py",
   "mimetype": "text/x-python",
   "name": "python",
   "nbconvert_exporter": "python",
   "pygments_lexer": "ipython3",
   "version": "3.7.3"
  }
 },
 "nbformat": 4,
 "nbformat_minor": 5
}
